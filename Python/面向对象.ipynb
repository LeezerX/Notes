{
 "cells": [
  {
   "cell_type": "markdown",
   "metadata": {},
   "source": [
    "导入库"
   ]
  },
  {
   "cell_type": "code",
   "execution_count": null,
   "metadata": {},
   "outputs": [],
   "source": []
  },
  {
   "cell_type": "markdown",
   "metadata": {},
   "source": [
    "定义一个类"
   ]
  },
  {
   "cell_type": "code",
   "execution_count": 1,
   "metadata": {},
   "outputs": [],
   "source": [
    "class my_class:\n",
    "    def __init__(self):\n",
    "        pass"
   ]
  },
  {
   "cell_type": "markdown",
   "metadata": {},
   "source": [
    "## __str__方法"
   ]
  },
  {
   "cell_type": "markdown",
   "metadata": {},
   "source": [
    "对于一个类,如果直接用print输出一个实例化的对象,会是这样的"
   ]
  },
  {
   "cell_type": "code",
   "execution_count": 2,
   "metadata": {},
   "outputs": [
    {
     "name": "stdout",
     "output_type": "stream",
     "text": [
      "<__main__.my_class object at 0x000001424E6D6650>\n"
     ]
    }
   ],
   "source": [
    "test = my_class()\n",
    "print(test)"
   ]
  },
  {
   "cell_type": "markdown",
   "metadata": {},
   "source": [
    "如果一个类,比如说人,有身高体重之类的,我们不想输出一个实例对象时,只输出这串复杂的字符,我们可以用内置的__str__方法,定义了__str__方法后,输出实例化对象时,就会输出__str__方法里定义的内容"
   ]
  },
  {
   "cell_type": "code",
   "execution_count": 10,
   "metadata": {},
   "outputs": [],
   "source": [
    "class Human:\n",
    "    def __init__(self,h,w):\n",
    "        self.height = h\n",
    "        self.weight = w\n",
    "    def __str__(self):\n",
    "        return 'This man is tall '+str(self.height)+' meter and weight '+str(self.weight)+'kg'"
   ]
  },
  {
   "cell_type": "code",
   "execution_count": 11,
   "metadata": {},
   "outputs": [
    {
     "name": "stdout",
     "output_type": "stream",
     "text": [
      "This man is tall 167 meter and weight 56kg\n"
     ]
    }
   ],
   "source": [
    "xiaoming = Human(167,56)\n",
    "print(xiaoming)"
   ]
  },
  {
   "cell_type": "markdown",
   "metadata": {},
   "source": [
    "这样,就优雅多了"
   ]
  },
  {
   "cell_type": "markdown",
   "metadata": {},
   "source": [
    "## __contains__方法"
   ]
  },
  {
   "cell_type": "markdown",
   "metadata": {},
   "source": [
    "有时候,我们会想看看该类中有哪些元素,同时,我们知道,in关键字可以用来查询存在关系,如"
   ]
  },
  {
   "cell_type": "code",
   "execution_count": 12,
   "metadata": {},
   "outputs": [
    {
     "data": {
      "text/plain": [
       "True"
      ]
     },
     "execution_count": 12,
     "metadata": {},
     "output_type": "execute_result"
    }
   ],
   "source": [
    "'a' in 'abc'"
   ]
  },
  {
   "cell_type": "markdown",
   "metadata": {},
   "source": [
    "一切皆对象,说明str对象也内置了处理**in**的__contains__方法.我们可以这么定义"
   ]
  },
  {
   "cell_type": "code",
   "execution_count": 13,
   "metadata": {},
   "outputs": [],
   "source": [
    "class Student:\n",
    "    def __init__(self,id:str,*fridends:str) -> None:\n",
    "        self.id = id\n",
    "        self.friends = fridends\n",
    "\n",
    "    def __contains__(self,x):\n",
    "        return x in self.friends\n"
   ]
  },
  {
   "cell_type": "code",
   "execution_count": 15,
   "metadata": {},
   "outputs": [
    {
     "name": "stdout",
     "output_type": "stream",
     "text": [
      "True\n",
      "False\n"
     ]
    }
   ],
   "source": [
    "xiaoming = Student(10002,'job','ana','bob')\n",
    "print('job' in xiaoming)\n",
    "print('huahua' in xiaoming)"
   ]
  },
  {
   "cell_type": "markdown",
   "metadata": {},
   "source": [
    "## __iter__方法"
   ]
  },
  {
   "cell_type": "markdown",
   "metadata": {},
   "source": [
    "我们知道,用for循环可以访问一个list中的所有元素,这是因为list是一个可迭代对象,可以用iter函数将其构造成迭代器,再用next()函数来逐步调用"
   ]
  },
  {
   "cell_type": "code",
   "execution_count": 16,
   "metadata": {},
   "outputs": [
    {
     "name": "stdout",
     "output_type": "stream",
     "text": [
      "1\n",
      "2\n",
      "3\n"
     ]
    }
   ],
   "source": [
    "lst = [1,2,3]\n",
    "for i in lst:\n",
    "    print(i)"
   ]
  },
  {
   "cell_type": "code",
   "execution_count": 22,
   "metadata": {},
   "outputs": [
    {
     "name": "stdout",
     "output_type": "stream",
     "text": [
      "<built-in function aiter>\n",
      "1\n",
      "2\n",
      "3\n"
     ]
    },
    {
     "ename": "StopIteration",
     "evalue": "",
     "output_type": "error",
     "traceback": [
      "\u001b[1;31m---------------------------------------------------------------------------\u001b[0m",
      "\u001b[1;31mStopIteration\u001b[0m                             Traceback (most recent call last)",
      "\u001b[1;32me:\\xun\\Documents\\Notes\\Python\\面向对象.ipynb Cell 21\u001b[0m in \u001b[0;36m<module>\u001b[1;34m\u001b[0m\n\u001b[0;32m      <a href='vscode-notebook-cell:/e%3A/xun/Documents/Notes/Python/%E9%9D%A2%E5%90%91%E5%AF%B9%E8%B1%A1.ipynb#ch0000021?line=1'>2</a>\u001b[0m \u001b[39mprint\u001b[39m(aiter)\n\u001b[0;32m      <a href='vscode-notebook-cell:/e%3A/xun/Documents/Notes/Python/%E9%9D%A2%E5%90%91%E5%AF%B9%E8%B1%A1.ipynb#ch0000021?line=2'>3</a>\u001b[0m \u001b[39mwhile\u001b[39;00m a_iter:\n\u001b[1;32m----> <a href='vscode-notebook-cell:/e%3A/xun/Documents/Notes/Python/%E9%9D%A2%E5%90%91%E5%AF%B9%E8%B1%A1.ipynb#ch0000021?line=3'>4</a>\u001b[0m     \u001b[39mprint\u001b[39m(\u001b[39mnext\u001b[39;49m(a_iter))\n",
      "\u001b[1;31mStopIteration\u001b[0m: "
     ]
    }
   ],
   "source": [
    "a_iter = iter(lst)\n",
    "print(aiter)\n",
    "while a_iter:\n",
    "    print(next(a_iter))\n"
   ]
  },
  {
   "cell_type": "markdown",
   "metadata": {},
   "source": [
    "同时,迭代器内也有一个停止的标准,如果迭代完,就返回StopIteration,表示迭代完成,但是并不报错.\n",
    "\n",
    "在一个类中,我们可以如下把其构造为迭代器.其中,__iter__方法将其构造为可迭代对象,然后改类的实例化对象便可以构造成迭代器(可用for循环迭代).同时,可用__next__方法来自己定义迭代规则,如果定义了__next__方法,则__iter__中只需返回self即可."
   ]
  },
  {
   "cell_type": "code",
   "execution_count": 26,
   "metadata": {},
   "outputs": [],
   "source": [
    "class Classes:\n",
    "    def __init__(self,*members:str) -> None:\n",
    "        self.members = members\n",
    "        self.index = 0\n",
    "        self.members_num = len(members)\n",
    "\n",
    "    def __iter__(self):\n",
    "        return self\n",
    "\n",
    "    def __next__(self):\n",
    "        if self.index == self.members_num:\n",
    "            raise StopIteration\n",
    "        member = self.members[self.index]\n",
    "        self.index += 1\n",
    "        return member\n",
    "\n",
    "    def __str__(self) -> str:\n",
    "        return 'gao3class4'"
   ]
  },
  {
   "cell_type": "code",
   "execution_count": 27,
   "metadata": {},
   "outputs": [
    {
     "name": "stdout",
     "output_type": "stream",
     "text": [
      "bob  is in  gao3class4\n",
      "job  is in  gao3class4\n",
      "liuhui  is in  gao3class4\n",
      "yangyang  is in  gao3class4\n"
     ]
    }
   ],
   "source": [
    "gao3class4 = Classes('bob','job','liuhui','yangyang')\n",
    "for member in gao3class4:\n",
    "    print(member,' is in ',gao3class4)"
   ]
  }
 ],
 "metadata": {
  "kernelspec": {
   "display_name": "Python 3.10.0 64-bit",
   "language": "python",
   "name": "python3"
  },
  "language_info": {
   "codemirror_mode": {
    "name": "ipython",
    "version": 3
   },
   "file_extension": ".py",
   "mimetype": "text/x-python",
   "name": "python",
   "nbconvert_exporter": "python",
   "pygments_lexer": "ipython3",
   "version": "3.10.0"
  },
  "orig_nbformat": 4,
  "vscode": {
   "interpreter": {
    "hash": "223bd7061210f9026212db00e2af3a04b24a752f8760dfb4b65dd6349c006262"
   }
  }
 },
 "nbformat": 4,
 "nbformat_minor": 2
}
