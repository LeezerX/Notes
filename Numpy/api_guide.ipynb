{
 "cells": [
  {
   "cell_type": "markdown",
   "metadata": {},
   "source": [
    "# API Guide\n",
    "\n",
    "this doc to help record some func of np.\n"
   ]
  },
  {
   "cell_type": "code",
   "execution_count": 1,
   "metadata": {},
   "outputs": [],
   "source": [
    "import numpy as np"
   ]
  },
  {
   "cell_type": "markdown",
   "metadata": {},
   "source": [
    "## `np.nonzero`\n",
    "\n",
    "- return the indices of the elem that are nonzero\n",
    "- if the dimension > 1, it will return some sequences, in every sequence, it contains the indices in that dimension, and it is row-major and C-style "
   ]
  },
  {
   "cell_type": "code",
   "execution_count": 2,
   "metadata": {},
   "outputs": [
    {
     "name": "stdout",
     "output_type": "stream",
     "text": [
      "[[3 0 0]\n",
      " [0 4 0]\n",
      " [5 6 0]]\n"
     ]
    }
   ],
   "source": [
    "x = np.array([[3, 0, 0], [0, 4, 0], [5, 6, 0]])\n",
    "print(x)"
   ]
  },
  {
   "cell_type": "code",
   "execution_count": 3,
   "metadata": {},
   "outputs": [
    {
     "data": {
      "text/plain": [
       "(array([0, 1, 2, 2], dtype=int64), array([0, 1, 0, 1], dtype=int64))"
      ]
     },
     "execution_count": 3,
     "metadata": {},
     "output_type": "execute_result"
    }
   ],
   "source": [
    "np.nonzero(x)"
   ]
  },
  {
   "cell_type": "markdown",
   "metadata": {},
   "source": [
    "we can see, in the matrix, the (0,0),(1,1),(2,0),(2,1) are nonzero,we can use np.thranspose to make it more beautiful"
   ]
  },
  {
   "cell_type": "code",
   "execution_count": 4,
   "metadata": {},
   "outputs": [
    {
     "data": {
      "text/plain": [
       "array([[0, 0],\n",
       "       [1, 1],\n",
       "       [2, 0],\n",
       "       [2, 1]], dtype=int64)"
      ]
     },
     "execution_count": 4,
     "metadata": {},
     "output_type": "execute_result"
    }
   ],
   "source": [
    "np.transpose(np.nonzero(x))"
   ]
  },
  {
   "cell_type": "markdown",
   "metadata": {},
   "source": [
    "`np.argwhere` have the same func, and it return a beautiful style directly"
   ]
  },
  {
   "cell_type": "code",
   "execution_count": 7,
   "metadata": {},
   "outputs": [
    {
     "data": {
      "text/plain": [
       "array([[0, 0],\n",
       "       [1, 1],\n",
       "       [2, 0],\n",
       "       [2, 1]], dtype=int64)"
      ]
     },
     "execution_count": 7,
     "metadata": {},
     "output_type": "execute_result"
    }
   ],
   "source": [
    "np.argwhere(x != 0)\n",
    "# the condition are flexible, it can be x>3 etc."
   ]
  },
  {
   "cell_type": "markdown",
   "metadata": {},
   "source": [
    "- also np.nonzero(*a ndarray condition*) will achieve the same function of argwhere, also it return the indices"
   ]
  },
  {
   "cell_type": "code",
   "execution_count": 10,
   "metadata": {},
   "outputs": [
    {
     "name": "stdout",
     "output_type": "stream",
     "text": [
      "(array([1, 2, 2], dtype=int64), array([1, 0, 1], dtype=int64))\n",
      "[[1 1]\n",
      " [2 0]\n",
      " [2 1]]\n",
      "[[False False False]\n",
      " [False  True False]\n",
      " [ True  True False]]\n"
     ]
    }
   ],
   "source": [
    "print(np.nonzero(x > 3))\n",
    "print(np.argwhere(x > 3))\n",
    "print(x > 3)\n",
    "# we use the indices to find the value, the three type func equally"
   ]
  },
  {
   "cell_type": "code",
   "execution_count": 11,
   "metadata": {},
   "outputs": [
    {
     "name": "stdout",
     "output_type": "stream",
     "text": [
      "[4 5 6]\n",
      "[[[0 4 0]\n",
      "  [0 4 0]]\n",
      "\n",
      " [[5 6 0]\n",
      "  [3 0 0]]\n",
      "\n",
      " [[5 6 0]\n",
      "  [0 4 0]]]\n",
      "[4 5 6]\n"
     ]
    }
   ],
   "source": [
    "print(x[np.nonzero(x > 3)])\n",
    "print(x[np.argwhere(x > 3)]) # oh it is diff from the other two, because the array is not the C-style\n",
    "print(x[x > 3])\n"
   ]
  },
  {
   "cell_type": "code",
   "execution_count": 20,
   "metadata": {},
   "outputs": [
    {
     "data": {
      "text/plain": [
       "array([[ 3.        , -2.        ,  2.        ],\n",
       "       [-2.        ,  5.33333333,  4.66666667],\n",
       "       [ 2.        ,  4.66666667, 10.33333333]])"
      ]
     },
     "execution_count": 20,
     "metadata": {},
     "output_type": "execute_result"
    }
   ],
   "source": [
    "np.cov(x)"
   ]
  }
 ],
 "metadata": {
  "kernelspec": {
   "display_name": "Python 3.10.0 64-bit",
   "language": "python",
   "name": "python3"
  },
  "language_info": {
   "codemirror_mode": {
    "name": "ipython",
    "version": 3
   },
   "file_extension": ".py",
   "mimetype": "text/x-python",
   "name": "python",
   "nbconvert_exporter": "python",
   "pygments_lexer": "ipython3",
   "version": "3.10.0"
  },
  "orig_nbformat": 4,
  "vscode": {
   "interpreter": {
    "hash": "223bd7061210f9026212db00e2af3a04b24a752f8760dfb4b65dd6349c006262"
   }
  }
 },
 "nbformat": 4,
 "nbformat_minor": 2
}
